{
 "cells": [
  {
   "cell_type": "code",
   "execution_count": 20,
   "metadata": {},
   "outputs": [],
   "source": [
    "import numpy as np\n",
    "import pandas as pd\n",
    "from pandas import DataFrame, Series\n",
    "import sqlite3 as db"
   ]
  },
  {
   "cell_type": "code",
   "execution_count": 21,
   "metadata": {},
   "outputs": [],
   "source": [
    "from pandas.compat import StringIO, BytesIO"
   ]
  },
  {
   "cell_type": "code",
   "execution_count": 23,
   "metadata": {},
   "outputs": [],
   "source": [
    "import matplotlib"
   ]
  },
  {
   "cell_type": "code",
   "execution_count": null,
   "metadata": {},
   "outputs": [],
   "source": [
    "import csv\n",
    "import mysql-connector\n",
    "#Provide {userName} and {passWord} for your Mysql client connection\n",
    "db = mysql.connector.connect(\n",
    "host=\"localhost\",\n",
    "user=\"{userName}\",\n",
    "passwd=\"{passWord}\"\n",
    ")\n",
    "\n",
    "#cursor is used to execute sql Queries\n",
    "cursor = mydb.cursor()\n",
    "\n",
    "#Create Database\n",
    "cursor.execute(\"CREATE DATABASE sqladb\")\n",
    "cursor.execute(\"USE sqladb\")\n",
    "\n",
    "#Create Table with the naming convention\n",
    "cursor.execute(\"CREATE TABLE adultTable (age INT(2),workclass VARCHAR(255), fnlwgt INT(5), education VARCHAR(255), education-num INT(5), marital-status VARCHAR(255), occupation VARCHAR(255), relationship VARCHAR(255), race VARCHAR(255), sex VARCHAR(255), capital-gain INT(20), capital-loss INT(20), hours-per-week INT(20), native-country VARCHAR(255) )\", moreThan50K VARCHAR(255))\n",
    "\n",
    "#Load data from sample.csv to table\n",
    "table_data = csv.reader(file('sample.csv'))\n",
    "for row in table_data:\n",
    "  cursor.execute('INSERT INTO adultTable VALUES(\"%s\", \"%s\", \"%s\", \"%s\", \"%s\", \"%s\", \"%s\", \"%s\", \"%s\", \"%s\", \"%s\", \"%s\", \"%s\", \"%s\", \"%s\")',row)\n",
    "\n",
    "# Commit is important to reflect the changes\n",
    "db.commit()\n",
    "\n",
    "# 1) Select 10 rows from table\n",
    "cursor.execute(\"SELECT * FROM adultTable LIMIT 10\")\n",
    "myresult = cursor.fetchall()\n",
    "for x in myresult:\n",
    "print(x)\n",
    "\n",
    "\n",
    "\n",
    "# 2) Average hours per week for all man who are working in private sector\n",
    "cursor.execute(\"SELECT AVG(hours-per-week) average-hours-per-week FROM adultTable WHERE workclass = 'Private' \")\n",
    "myresult = cursor.fetchall()\n",
    "for x in myresult:\n",
    "print(x)\n",
    "\n",
    "# 3) Frequency tables\n",
    "#    a) education\n",
    "cursor.execute(\"SELECT education , COUNT(education) frequency FROM adultTable GROUP BY education \")\n",
    "myresult = cursor.fetchall()\n",
    "for x in myresult:\n",
    "print(x)\n",
    "\n",
    "#    b) occupation\n",
    "cursor.execute(\"SELECT occupation, COUNT(occupation) frequency FROM adultTable GROUP BY occupation \")\n",
    "myresult = cursor.fetchall()\n",
    "for x in myresult:\n",
    "print(x)\n",
    "\n",
    "#    a) relationship\n",
    "cursor.execute(\"SELECT relationship, COUNT(relationship) frequency FROM adultTable GROUP BY relationship \")\n",
    "myresult = cursor.fetchall()\n",
    "for x in myresult:\n",
    "print(x)\n",
    "\n",
    "# 4) Are there any people who are married, working in private sector and having a masters degree \n",
    "cursor.execute(\"SELECT IF(count > 0, 'Yes', 'No') _exist FROM ( SELECT COUNT(marital_status) count FROM adultTable WHERE marital-status IN ('Married-civ-spouse', 'Married-spouse-absent' , 'Married-AF-spouse')) alias \")\n",
    "myresult = cursor.fetchall()\n",
    "for x in myresult:\n",
    "print(x)\n",
    "\n",
    "# 5) Average, minimum and maximum age group for people working in different sectors\n",
    "cursor.execute(\" SELECT workclass as sector, AVG(age) averageAge, MIN(age) minAge, MAX(age) maxAge  FROM adultTable GROUP BY workclass \")\n",
    "myresult = cursor.fetchall()\n",
    "for x in myresult:\n",
    "print(x)"
   ]
  }
 ],
 "metadata": {
  "kernelspec": {
   "display_name": "Python 2",
   "language": "python",
   "name": "python2"
  },
  "language_info": {
   "codemirror_mode": {
    "name": "ipython",
    "version": 2
   },
   "file_extension": ".py",
   "mimetype": "text/x-python",
   "name": "python",
   "nbconvert_exporter": "python",
   "pygments_lexer": "ipython2",
   "version": "2.7.15"
  }
 },
 "nbformat": 4,
 "nbformat_minor": 2
}
